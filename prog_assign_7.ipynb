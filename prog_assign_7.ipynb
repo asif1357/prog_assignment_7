{
 "cells": [
  {
   "cell_type": "code",
   "execution_count": 40,
   "id": "39df5152",
   "metadata": {},
   "outputs": [
    {
     "name": "stdout",
     "output_type": "stream",
     "text": [
      "original array [1, 2, 3, 4, 5, 6]\n",
      "21\n",
      "6\n",
      "[6, 5, 4, 3, 2, 1]\n",
      "array is not monotonic\n",
      "[4, 5, 6, 1, 2, 3]\n"
     ]
    }
   ],
   "source": [
    "arr=[1,2,3,4,5,6]\n",
    "print(\"original array\",arr)\n",
    "print(sum(arr))   #sum of array\n",
    "print(max(arr))   #largest element of array\n",
    "print(arr[::-1])  #arr rotation\n",
    "if len(arr)==1:\n",
    "    print(\"array is monotonic\")\n",
    "else :\n",
    "    print(\"array is not monotonic\")\n",
    "    \n",
    "if len(arr)%2==0:\n",
    "    if len(arr)==0:\n",
    "        print(\"empty array\")\n",
    "    else :\n",
    "        temp_arr1=[]\n",
    "        temp_arr2=[]\n",
    "        for i in range(0,int(len(arr)/2)):\n",
    "            temp_arr1.append(arr[int(len(arr)/2)+i])\n",
    "            temp_arr2.append(arr[i])\n",
    "print(temp_arr1+temp_arr2)\n",
    "\n"
   ]
  },
  {
   "cell_type": "code",
   "execution_count": null,
   "id": "9074bbff",
   "metadata": {},
   "outputs": [],
   "source": []
  }
 ],
 "metadata": {
  "kernelspec": {
   "display_name": "Python 3 (ipykernel)",
   "language": "python",
   "name": "python3"
  },
  "language_info": {
   "codemirror_mode": {
    "name": "ipython",
    "version": 3
   },
   "file_extension": ".py",
   "mimetype": "text/x-python",
   "name": "python",
   "nbconvert_exporter": "python",
   "pygments_lexer": "ipython3",
   "version": "3.9.12"
  }
 },
 "nbformat": 4,
 "nbformat_minor": 5
}
